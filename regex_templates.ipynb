{
 "cells": [
  {
   "cell_type": "code",
   "execution_count": null,
   "metadata": {},
   "outputs": [],
   "source": [
    "#Splitting text into individual words or tokens.\n",
    "\n",
    "import re\n",
    "\n",
    "text = \"Hello, how are you?\"\n",
    "tokens = re.findall(r'\\w+', text)\n",
    "print(tokens)  # Output: ['Hello', 'how', 'are', 'you']"
   ]
  },
  {
   "cell_type": "code",
   "execution_count": null,
   "metadata": {},
   "outputs": [],
   "source": [
    "#Removing punctuation marks from text.\n",
    "\n",
    "import re\n",
    "\n",
    "text = \"Hello, how are you?\"\n",
    "clean_text = re.sub(r'[^\\w\\s]', '', text)\n",
    "print(clean_text)  # Output: \"Hello how are you\""
   ]
  },
  {
   "cell_type": "code",
   "execution_count": null,
   "metadata": {},
   "outputs": [],
   "source": [
    "#Removing digits from text.\n",
    "\n",
    "import re\n",
    "\n",
    "text = \"I have 3 apples and 2 oranges.\"\n",
    "clean_text = re.sub(r'\\d', '', text)\n",
    "print(clean_text)  # Output: \"I have  apples and  oranges.\""
   ]
  },
  {
   "cell_type": "code",
   "execution_count": null,
   "metadata": {},
   "outputs": [],
   "source": [
    "#Removing URLs from text.\n",
    "\n",
    "import re\n",
    "\n",
    "text = \"Check out my website: https://example.com\"\n",
    "clean_text = re.sub(r'http\\S+|www\\S+|https\\S+', '', text)\n",
    "print(clean_text)  # Output: \"Check out my website: \""
   ]
  },
  {
   "cell_type": "code",
   "execution_count": null,
   "metadata": {},
   "outputs": [],
   "source": [
    "#Removing non-alphabetic characters from text.\n",
    "\n",
    "import re\n",
    "\n",
    "text = \"Hello123, how are you?\"\n",
    "clean_text = re.sub(r'[^a-zA-Z\\s]', '', text)\n",
    "print(clean_text)  # Output: \"Hello how are you\""
   ]
  },
  {
   "cell_type": "code",
   "execution_count": null,
   "metadata": {},
   "outputs": [],
   "source": [
    "#Removing extra consecutive whitespaces and trimming leading/trailing whitespaces.\n",
    "\n",
    "import re\n",
    "\n",
    "text = \"  This    is   a    sentence.  \"\n",
    "clean_text = re.sub(r'\\s+', ' ', text).strip()\n",
    "print(clean_text)  # Output: \"This is a sentence.\""
   ]
  }
 ],
 "metadata": {
  "language_info": {
   "name": "python"
  },
  "orig_nbformat": 4
 },
 "nbformat": 4,
 "nbformat_minor": 2
}
